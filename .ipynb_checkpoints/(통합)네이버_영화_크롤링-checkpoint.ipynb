{
 "cells": [
  {
   "cell_type": "markdown",
   "metadata": {},
   "source": [
    "# 1. 영화 랭킹 1~50위까지 영화제목, URL 크롤링"
   ]
  },
  {
   "cell_type": "code",
   "execution_count": 2,
   "metadata": {},
   "outputs": [
    {
     "name": "stdout",
     "output_type": "stream",
     "text": [
      "1 다만 악에서 구하소서 https://movie.naver.com/movie/bi/mi/basic.nhn?code=189069\n",
      "2 강철비2: 정상회담 https://movie.naver.com/movie/bi/mi/basic.nhn?code=188909\n",
      "3 반도 https://movie.naver.com/movie/bi/mi/basic.nhn?code=185917\n",
      "4 오케이 마담 https://movie.naver.com/movie/bi/mi/basic.nhn?code=182234\n",
      "5 블랙아웃 : 인베이젼 어스 https://movie.naver.com/movie/bi/mi/basic.nhn?code=182809\n",
      "6 애니멀 크래커 https://movie.naver.com/movie/bi/mi/basic.nhn?code=134824\n",
      "7 소년시절의 너 https://movie.naver.com/movie/bi/mi/basic.nhn?code=192066\n",
      "8 #살아있다 https://movie.naver.com/movie/bi/mi/basic.nhn?code=189537\n",
      "9 테넷 https://movie.naver.com/movie/bi/mi/basic.nhn?code=190010\n",
      "10 온워드: 단 하루의 기적 https://movie.naver.com/movie/bi/mi/basic.nhn?code=187351\n",
      "11 국제수사 https://movie.naver.com/movie/bi/mi/basic.nhn?code=175393\n",
      "12 반교: 디텐션 https://movie.naver.com/movie/bi/mi/basic.nhn?code=189618\n",
      "13 알라딘 https://movie.naver.com/movie/bi/mi/basic.nhn?code=163788\n",
      "14 밤쉘: 세상을 바꾼 폭탄선언 https://movie.naver.com/movie/bi/mi/basic.nhn?code=191143\n",
      "15 빅샤크3: 젤리몬스터 대소동 https://movie.naver.com/movie/bi/mi/basic.nhn?code=194799\n",
      "16 미녀와 야수 https://movie.naver.com/movie/bi/mi/basic.nhn?code=136872\n",
      "17 승리호 https://movie.naver.com/movie/bi/mi/basic.nhn?code=186342\n",
      "18 디바 https://movie.naver.com/movie/bi/mi/basic.nhn?code=177039\n",
      "19 강철비 https://movie.naver.com/movie/bi/mi/basic.nhn?code=155665\n",
      "20 아워 바디 https://movie.naver.com/movie/bi/mi/basic.nhn?code=179095\n",
      "21 존 윅 https://movie.naver.com/movie/bi/mi/basic.nhn?code=123300\n",
      "22 미드소마 https://movie.naver.com/movie/bi/mi/basic.nhn?code=182014\n",
      "23 담보 https://movie.naver.com/movie/bi/mi/basic.nhn?code=183866\n",
      "24 더 렌탈 https://movie.naver.com/movie/bi/mi/basic.nhn?code=195376\n",
      "25 키싱 부스 2 https://movie.naver.com/movie/bi/mi/basic.nhn?code=184520\n",
      "26 워터 릴리스 https://movie.naver.com/movie/bi/mi/basic.nhn?code=67457\n",
      "27 팬데믹 https://movie.naver.com/movie/bi/mi/basic.nhn?code=194766\n",
      "28 팡파레 https://movie.naver.com/movie/bi/mi/basic.nhn?code=186235\n",
      "29 루비 https://movie.naver.com/movie/bi/mi/basic.nhn?code=189622\n",
      "30 위대한 쇼맨 https://movie.naver.com/movie/bi/mi/basic.nhn?code=106360\n",
      "31 1942: 언노운 배틀 https://movie.naver.com/movie/bi/mi/basic.nhn?code=194791\n",
      "32 69세 https://movie.naver.com/movie/bi/mi/basic.nhn?code=189373\n",
      "33 47미터 2 https://movie.naver.com/movie/bi/mi/basic.nhn?code=187161\n",
      "34 고스트 오브 워 https://movie.naver.com/movie/bi/mi/basic.nhn?code=195425\n",
      "35 오피스 https://movie.naver.com/movie/bi/mi/basic.nhn?code=120141\n",
      "36 마티아스와 막심 https://movie.naver.com/movie/bi/mi/basic.nhn?code=185273\n",
      "37 기기괴괴 성형수 https://movie.naver.com/movie/bi/mi/basic.nhn?code=194644\n",
      "38 지저귀는 새는 날지 않는다 https://movie.naver.com/movie/bi/mi/basic.nhn?code=194693\n",
      "39 큐리오사 https://movie.naver.com/movie/bi/mi/basic.nhn?code=185256\n",
      "40 부다페스트 스토리 https://movie.naver.com/movie/bi/mi/basic.nhn?code=190355\n",
      "41 극장판 짱구는 못말려: 신혼여행 허리케인~ 사라진 아빠! https://movie.naver.com/movie/bi/mi/basic.nhn?code=183772\n",
      "42 올드 가드 https://movie.naver.com/movie/bi/mi/basic.nhn?code=193173\n",
      "43 결백 https://movie.naver.com/movie/bi/mi/basic.nhn?code=180378\n",
      "44 타겟 넘버 원 https://movie.naver.com/movie/bi/mi/basic.nhn?code=146218\n",
      "45 인셉션 https://movie.naver.com/movie/bi/mi/basic.nhn?code=52515\n",
      "46 주식회사 스페셜액터스 https://movie.naver.com/movie/bi/mi/basic.nhn?code=195180\n",
      "47 더 프린세스 : 도둑맞은 공주 https://movie.naver.com/movie/bi/mi/basic.nhn?code=178351\n",
      "48 프리즈너 https://movie.naver.com/movie/bi/mi/basic.nhn?code=194285\n",
      "49 어서오시게스트하우스 https://movie.naver.com/movie/bi/mi/basic.nhn?code=186239\n",
      "50 킬러맨 https://movie.naver.com/movie/bi/mi/basic.nhn?code=171518\n"
     ]
    }
   ],
   "source": [
    "# 랭킹 1~50위까지 영화제목, 상세페이지 크롤링\n",
    "import requests\n",
    "from bs4 import BeautifulSoup\n",
    "import bs4\n",
    "from urllib.parse import urljoin\n",
    "import re\n",
    "\n",
    "main_url = 'https://movie.naver.com/movie/sdb/rank/rmovie.nhn'\n",
    "response = requests.get(main_url)\n",
    "soup = BeautifulSoup(response.text, 'html.parser')\n",
    "\n",
    "for idx,a_tag in enumerate(soup.select('a[href*=basic.nhn]'),1):\n",
    "    if idx > 50:\n",
    "        break\n",
    "    title = a_tag.text.strip()\n",
    "    link = urljoin(main_url, a_tag['href'])\n",
    "    print(idx, title, link)"
   ]
  },
  {
   "cell_type": "markdown",
   "metadata": {},
   "source": [
    "# 2. 영화 상세페이지 크롤링 \n",
    "- 제목, 평점, 장르, 나라, 감독, 출연, 누적관객, 줄거리, 한줄평"
   ]
  },
  {
   "cell_type": "code",
   "execution_count": 7,
   "metadata": {},
   "outputs": [
    {
     "name": "stdout",
     "output_type": "stream",
     "text": [
      "https://movie.naver.com/movie/sdb/rank/rmovie.nhn/movie/bi/mi/basic.nhn?code=185917\n",
      "반도\n",
      "7.30\n",
      "액션,드라마\n",
      "한국\n",
      "연상호\n",
      "3,720,243명(08.11 기준)\n",
      "강동원(한정석), 이정현(민정)\n",
      "[전대미문의 재난 그 후 4년\n",
      " 폐허의 땅으로 다시 들어간다!]\n",
      " \n",
      " 4년 전, 나라 전체를 휩쓸어버린 전대미문의 재난에서 가까스로 탈출했던 ‘정석’(강동원).\n",
      " 바깥세상으로부터 철저히 고립된 반도에 다시 들어가야 하는 피할 수 없는 제안을 받는다.\n",
      "   \n",
      " 제한 시간 내에 지정된 트럭을 확보해 반도를 빠져 나와야 하는 미션을 수행하던 중\n",
      " 인간성을 상실한 631부대와 4년 전보다 더욱 거세진 대규모 좀비 무리가 정석 일행을 습격한다.\n",
      "   \n",
      " 절체절명의 순간,\n",
      " 폐허가 된 땅에서 살아남은 ‘민정’(이정현) 가족의 도움으로 위기를 가까스로 모면하고\n",
      " 이들과 함께 반도를 탈출할 수 있는 마지막 기회를 잡기로 한다.\n",
      "   \n",
      " 되돌아온 자, 살아남은 자 그리고 미쳐버린 자\n",
      " 필사의 사투가 시작된다!\n",
      "https://movie-phinf.pstatic.net/20200624_137/15929908359489lOON_JPEG/movie_image.jpg?type=m77_110_2\n",
      "\n",
      "=================1페이지=================\n",
      "1 부산행 반도 못따라감 그래서 반도임\n",
      "2 재미있게 잘 봤습니다. 다만 조금 질질 끄는 게 아쉬웠어요. 전형적인 약간의 억지 감동은 빼주셨으면\n",
      "3 영상미는 좋은데 스토리가....흥미가 안생겨요배우님들 고생 많았습니다\n",
      "4 진짜 재미없음 다른말필요없음\n",
      "5 미안하지만 jane 명찰보고 빵터짐\n",
      "6 실망대망.교과서적 연출로도 평타 이상은 가능할 좀비소재를 이렇게까지...\n",
      "7 한창 때리고 부수고 싸우는 거 좋아하는 10세 남아 머리에서 나올법한수준 낮은 각본과 연출. 대신 추진력 하나는 인정. 이런 지지고 볶는 짜파게티같은 각본을 완결짓고 영화판에 내다니..그 점은 대단! 애기들도 연...\n",
      "8 분노의 질주를 본것 같았다...감동을 억지로 씬에 담으려는거 같았고현실성 없는 내용들이 많이 깔려있어서보는내내 이질감이 느껴져 2점 드렸습니다.\n",
      "9 기아 모하비 홍보영상을 보고나온 느낌이 제일 강하게 들었고,차량 액션신은 대부분 cg인데 이질감이 느껴짐좀비 연출은 죄다 때거지로 덤비는 연출 아쉬움그냥 볼만한 수준의 영화이 영화보다 부산행 한 번 더 보는걸 추천드...\n",
      "10 부산행의 반도 못하다 해서 반도. . 인가..\n",
      "=================2페이지=================\n",
      "1 강동원 이정현은 아묻따였는데 악역으로 나온 구교환 너무 좋아ㅠ\n",
      "2 기대안하고 봐서 그런지 재미없었음 ^^ 기대하고 봤으면 더 재미없었을듯\n",
      "3 이것은 좀비영화인가 레이싱영화인가 신파는 왜이리 많은것인가\n",
      "4 이거 볼 돈으로 국밥 특대 사드세여 ㅎㅎ\n",
      "5 추천은 안함 근데 강동원 잘생김강동원 총 잘쏨 근데 강동원 잘생김 여자애 운전 개쩜 근데 강동원 잘생김\n",
      "6 엔딩크레딧 올라올때\"와 진짜 이건 아닌데\"라는 생각이듬\n",
      "7 차로 좀비 깔아뭉개는 장면만 30분.\n",
      "8 모하비 한대 구매 해야 겠어요\n",
      "9 부산행과 장르가 완전히 바뀌었어요 왜갑자기 트랜스포머가된거죠....?\n",
      "10 너~~~~무 자동차씬만 기억나요,,\n",
      "=================3페이지=================\n",
      "1 모하비 광고 영상인줄 알았습니다\n",
      "2 말하지 않겠다...최악이다 억지로 런타임 맞추려하는게 너무 봄\n",
      "3 영화보다가 나올뻔하긴 되게 오랜만이네요ㅋ 공포도 스릴도 감동도 없는 전형적인 한국형 신파극\n",
      "4 그냥 간단하게 홍콩에서 트럭을 가져와라는 지시를 받고 반도에서 가져오는 내용 중간중간 들어간 한국영화의 뻔한 \"가족애\" 로 인해 중간중간 지루함... PPL 잘한듯.. 차량 좋네 , 제발.. 억지감동....\n",
      "5 하.... 좀비물이 아니라 자동차 액션 보는 거같았어요 초반에는 볼만하다가 점점 지루해지고 결말이 어느정도 예측이되고 개연성도 부족한거같고 부산행급 까진 아니더라도 어느정도 기대하고 봤는데 너무 실망입니다\n",
      "6 마자막 신파만 그러려니하고 넘기면 전체적으로볼만함 구교환씨 맛탱이간 연기 맛깔나게 잘하고\n",
      "7 음...레이싱 영화인지 좀비 영화인지... 억지 감동 포인트도 그렇고 그냥 볼 거 없어서 보는 영화?? 기대 안 하고 보면 괜찮음!\n",
      "8 연기는 4년후인데 연출 스토리 전개는 4년 전으로 돌아간것 같다.\n",
      "9 초반에는 관람객의 흥미를 끌기엔 충분하였으나, 갈수록 아쉬운 점이 있음영화의 스토리가 하나하나 전부 기억이 날 만큼 별 내용이 없고 액션신으로 가득함.다소 과한 연출.. 억지설정.. 요약 : 용두사미를 2글자로 줄이...\n",
      "10 부산행생각하고보시면안돼요시간가는줄알고봤습니다\n",
      "=================4페이지=================\n",
      "1 그냥 모르겠다. 개연성도 없고, 뭘 말할려고 하는지 모르겠음. 그냥 어떤 놈 임무 받아서 그거 가지고 싸우는게 내용 끝임. 그러다가 갑자기 신파극 눈물 쥐어짜내는..\n",
      "2 잘 쌓아올리다가 청승으로 범벅된다.\n",
      "3 스토리 머냐?? 발로??규제가 문제인가.. 돈이문제인가....너무 급급.. 그나마 악당이 괸찮으면 머냐??\n",
      "4 뭐랄까. 염력 엄복동을 피했는데 반도를 못피했네. 부산행의 반의 '반도'못미치는 영화\n",
      "5 구교환의 재발견. 악역 캐릭터를 정말 본인의 색으로 맛깔나게 소화했음 왜 감독이 한국의 조커라고 한지 알듯\n",
      "6 10점 알바들이랑 1점 알바들이랑 싸우니 사이좋게 5점으로 양보하자\n",
      "7 그냥 오락영화. 다보고나면이영화가 무슨 말을 하고싶은건지 모르겠을정도로 그냥 허무맹랑.화려한 카체이싱 액션이 돋보임. 근데 중간중간 긴장감을 깨버리는 대사들. 선과악을 구분지어놔 스토리가 너무 단순함.전작...\n",
      "8 연기는 김민재 배우가 살렸지만 스토리의 개연성이 부족하고 억지스런 신파와 어색한 CG그냥 강동원은 거지같은 머리해도 강동원이구나만 느낌\n",
      "9 돈이 아깝다 코로나시국에 이거 보려고 극장 간 내가 레게노\n",
      "10 권해효 아저씨는 유엔군 제인때문에 나온거고이정현 누나는 살기위해 나온거고강동원은 얼굴마담 하러 나온거고결론 아역들 연기 잘한다좀비물이긴한데 어색하다.. 부산행 따라잡을 영화가 없는건가 ㅜㅜ 엄청 기대했는데이제 강철비...\n",
      "=================5페이지=================\n",
      "1 한국형매드맥스를꿈꿨으나마무리는90년대신파로마무리함\n",
      "2 부산행에서 안전한 부분만 빼서 만든 영화 느낌 갑분 신파 넣고 좀비도 넣어주고 카체이싱이나 액션도 넣었는데 맨날 먹던 반찬 맛이다 나쁘지는 않은데 막 최고!!이것도 아님 딱 평타\n",
      "3 \n",
      "4 대배우 구교환 ??\n",
      "5 좀비영화가 아니라 카트라이더임 그냥. 처음부터 끝까지 예상 가능한 스토리고 좀비는 그냥 빌런을 죽이는 장치 그 이상 그 이하도 아님.\n",
      "6 살아있다2가 개봉한줄. 어떻게 영화를 이렇게 재미없게 만드는지....시간 버림\n",
      "7 이게 좀비 영화인지 좀비만 나오는 카 액션인지 전혀 개연성도 없고 감동도 억지로 끼어 맞추는 것 같고 원래 영화 기대 안 하고 보는데 완전 바닥이네요\n",
      "8 보는내내 와 운전잘한다 느낌 부산행기대하고 가시는거면 가지마시길\n",
      "9 관람객평점이 8점을 넘기는걸 보면서 우리나라 진짜 살만하고 좋은나라인걸 새삼 깨닫습니다.. 막판 제인엔딩에서 개콘에서도 못찾던 웃음을30분이상 찾을 수 있었습니다감사합니다\n",
      "10 저기요. 이거 장르가 뭐임? 도대체 뭘 찍은 거야...\n",
      "=================6페이지=================\n",
      "1 짧은 총평... 술 취한 형님의 술주정 들어주는 느낌. “형, 무슨 말인지 알아. 안다고. 그런데 그건 아니지. 아니. 안다니까.” 부산행 감독의 후속작일뿐 부산행2는 아니라는걸 모르는 사람이 많은 듯. 아포칼립스로...\n",
      "2 반도70살아있다30\n",
      "3 신파도 문제인데 영화가 전체적으로 매끄럽지가 못 함ㅠ 시작부터 아무리 버릴 카드라고 해도 목적은 큰 돈인데 이미 한 번 실패하고 못 가져왔으면 제대로 준비를 하고 보내야 하는데 허술하게 달랑 총 하나 들고 간다는게 ...\n",
      "4 한국 영화의 마케팅계가 이렇게 썩어버렸나..이딴 영화가 어떻게 평점이 9점이냐알바를 쳐써도 작작써야지, 이게 평점조작단이랑 다를게뭐냐\n",
      "5 부산행 좀비 보다 빨라졌다고 홍보하더니 좀비 나오는 장면이 레이싱 장면 보다 적으면 어쩌란 말임\n",
      "6 이걸 영화라고 만들었니?? 어휴... 반 도 못보고 나왔다는...\n",
      "7 인랑도 재미있게본내가...처음으로 돈아깝다고생각들었음 치누크왔을때부터 진짜 욕나오더라\n",
      "8 왜 생존자들끼리 싸우는가?좀비는 거들 뿐!\n",
      "9 한국판 분노의 질주(feat.좀비군단)\n",
      "10 이걸 보느니 레지던트 이블 한 편 때리는 게 더 낫습니다\n",
      "=================7페이지=================\n",
      "1 알바진짜 오지게 풀어놨네\n",
      "2 나름 군인이 타락한 얘기는 신박했음 근데 너무 매드맥스 느낌남 모하비 차주들 내심 기분좋을듯 ㅋㅋ\n",
      "3 신파만 좀 줄였으면....\n",
      "4 대실망 핵노잼 강동원 얼굴만 재밌음\n",
      "5 억지 신파에 토할뻔했다\n",
      "6 좀비영화에 좀비가 없다. 배우들의 연기는 상황이 있을 뿐 이야기를 거들 수 있는 드라마가 부족하다. 볼거리로 채우기 급급하며 웅장한 비주얼을 자랑하는 듯 하나 결국 영화를 다 보고나서 결국 드는 생각은플레이스테이...\n",
      "7 하.. 왜 평점 낮은지 알겠습니다.좀 눈물짜내려는 요소 너무 많아요억지로 넣어놨어요 마지막 끝날쯤에 폭발하는데 한숨나옵니다 제발.. 일반인도 느끼는데 제작진들은 무슨 생각이였는지..알바평점 낮출려고 2점 줍니다\n",
      "8 내용틀은 괜찮았는데 좀비보단 자동차씬이 많고 강동원 비중이 아쉽고 안멋있음. 쓸때없는곳에서 뜸을 너무들임...\n",
      "9 *세상에 이런 영화는 없었다!!*현금가 단돈 만원을 주고 즐길 수있는 극암의 영화!<PUBG> 사에서도 극찬한 플레이어 컨트롤이 전혀 듣지않는 \"최초\" 배틀그라운드 좀비모드 실사판 영화!!파...\n",
      "10 싸구려 CG에 어설픈 연기력에 집중안되는 시나리오에 강동원 나옴 끝.\n",
      "=================8페이지=================\n",
      "1 영화값의 반도 못건졌다.남는게 없는 영화\n",
      "2 엄복동2 인가요? 왜 한국영화들은 억지감동+신파극을 못끼워넣어서 안달이지? 보는내내 불편할정도로 억지감동 유발에 눈살찌푸려졌음. 부산행2래서 기대하고 본 내 잘못이지..에휴\n",
      "3 이건 1점이 아니다. 11점을 주고 싶은 내 마음이다.\n",
      "4 스토리가없으니연기가보이지않는다.그냥킬링타임용.\n",
      "5 난 돈도많고 시간도 많다 하시는분 보세요 뭔 영화가 아니라 모하비 광고찍는줄\n",
      "6 살아잇다보다 99.9%잼\n",
      "7 반도 만들면 안 됐어... 부산행은 참신한 소재니까 흥미로워서 봤다면 이건 그런 것도 없이 그냥 ㅠㅠㅠ배급사들은 완성된 영화를 보고 정말 경쟁력 있다고 생각해서 배급한건지...개판임강동원은 제에에에발 영화 고르는 눈...\n",
      "8 감독님 신파 넣는것도 상황에따라 넣으셔야하는데 너무 사람죽는걸로 억지 감동할려고 질질끌고 오히려 그게 더 따분하게만들고 액션신도 화끈한건 좋으나 너무 말도안되는장면이 오래가니 재미가 많이 반감되네요 부산행을 정말 좋...\n",
      "9 4년동안 서있던 차를 박았는데 경보기가 막 울려....슈퍼배터리인가?\n",
      "10 말도안되는 운전실력.모하비 겁나튼튼함.그리고 신파 신파 신파 신파\n",
      "=================9페이지=================\n",
      "1 배안에서 백덤블링 하는 좀비 보고 뭔가 느낌이 왔음 그러다가 화장실 갔다 왔는데 어린 애들이 운전을 멧데이먼 수준으로 함ㅋㅋㅋ\n",
      "2 전형적인 한국형 산파극\n",
      "3 모하비 광고로 착각할정도..\n",
      "4 스토리. 연출 모두 별로네요. 각자의 의견이 다르겠지만 저는 돈주고 보고싶지는 않네요^^그나마 가족과 함게여서 좋았습니다\n",
      "5 개연성이 너무 앖네요....\n",
      "6 뭔가 아쉽다 .... 뭔가 다 짬뽕시켜놓은 느낌...?\n",
      "7 진짜 오지게재미없어요.. 진짜 돈주고보라해도 안볼정도.. 좀비영화보러갔더니 하루종일 자동차로 레이싱경주하는거 보러간줄 ㅋㅋ그리고 어떻게든 억지눈물만드려고 노력은한거같은데 진짜 오글거리고 최악이네요;그냥 한국좀비영화는...\n",
      "8 이거보고 면허따러갑니다\n",
      "9 왠지모르게 재미가 없었네요. 전체적으로 완성도가 조금 미흡한듯...\n",
      "10 방금 영화 보고 왔습니다 웬만하면 영화 재밌게보는데..이건 좀.. 부산행은 스릴감이라도 있었지 이건차로 좀비치는 영화도아니고;; 억지감동 뿜뿜임..한달뒤에 영화 풀릴듯\n",
      "=================10페이지=================\n",
      "1 너무 오글거리고 막파 신파신때문에 짜증났다.\n",
      "2 노잼\n",
      "3 별로였어요 그냥 중간에도 좀 지루했고 재밌는지는 모르겠네요ㅜㅜ\n",
      "4 한국 신파라는 새로운 장르를 개척해 나가시는 연상호 감독님!! 신파장르의 넘버원 답게 시작부터 끝까지 줄줄이 신파의 대향연!!\n",
      "5 신파 음악 억지눈물 이제 좀 그만..\n",
      "6 재밌게잘봤는데 마지막에 억지로 감동짜내려는건지 무슨의도로 슬프지않은데 그렇게질질끄는지 모르겠네요\n",
      "7 이게 한국 영화 현주소다ㅡㅡ 실력있는 감독 몇 명이 하드캐리하고 신인 감독이라는 새키들은 겉멋만 들어서 유명배우만 있으면 어떤 똥을 내놔도 쳐봐주고 숼드쳐주는 멍청한 대중들ㅡㅡ 연상호 상업영화는 믿거 다시 한 번 인...\n",
      "8 재미없고.. 잠이 솔솔 왔다.\n",
      "9 진짜 너무하네 이게 영화냐\n",
      "10 돈이 아까울 정도\n"
     ]
    }
   ],
   "source": [
    "import requests\n",
    "from bs4 import BeautifulSoup\n",
    "import bs4\n",
    "from urllib.parse import urljoin\n",
    "import re\n",
    "\n",
    "\n",
    "#movie_number = '189069' #악에서\n",
    "movie_number = '185917'\n",
    "main_url = 'https://movie.naver.com/movie/sdb/rank/rmovie.nhn/movie/bi/mi/basic.nhn?code=' + movie_number\n",
    "print(main_url)\n",
    "response = requests.get(main_url)\n",
    "soup = BeautifulSoup(response.text, 'html.parser')\n",
    "\n",
    "title = soup.select_one('h3.h_movie a[href*=basic.nhn]').text.strip()\n",
    "print(title)\n",
    "score_text = soup.select_one('div.star_score span.st_on').text.strip()\n",
    "score = re.findall(\"(\\d+\\.+\\d+)\",score_text)[0]\n",
    "print(score)\n",
    "genre = soup.select_one('dl.info_spec span').text.strip()\n",
    "genre = re.sub(r\"\\s+\", \"\", genre)\n",
    "print(genre)\n",
    "nation = soup.select_one('dl.info_spec span a[href*=nation]').text.strip()\n",
    "print(nation)\n",
    "director = soup.select_one('dl.info_spec a[href*=code]').text.strip()\n",
    "print(director)\n",
    "audience = soup.select_one('p.count').text.strip()\n",
    "print(audience)\n",
    "actors = soup.find('dl',attrs={\"class\":\"info_spec\"}).find_all(\"dd\")[2].text\n",
    "actors = actors.replace(\"더보기\",\"\")\n",
    "print(actors)\n",
    "for plot in soup.select('div.video div.story_area'):\n",
    "    for p in plot.find('p'):\n",
    "        if not isinstance(p, bs4.element.Tag):\n",
    "            print(p.string)\n",
    "            \n",
    "poster = soup.select_one('div.poster img')\n",
    "print(poster['src'])\n",
    "\n",
    "\n",
    "# 한줄평 가져오기 (10페이지)\n",
    "print()\n",
    "for i in range(1, 11):\n",
    "    url2 = 'https://movie.naver.com/movie/bi/mi/pointWriteFormList.nhn?code='+ movie_number +'&type=after&isActualPointWriteExecute=false&isMileageSubscriptionAlready=false&isMileageSubscriptionReject=false&page='\n",
    "    print('================='+str(i)+'페이지=================')\n",
    "    urls2 = url2 + str(i)\n",
    "    html = requests.get(urls2).text\n",
    "    soup = BeautifulSoup(html, 'html.parser')\n",
    "    comment_tag_list = soup.select('span[id^=_filtered_ment_]')\n",
    "    \n",
    "    \n",
    "    for idx, comment_tag in enumerate(comment_tag_list, 1):\n",
    "        comment = comment_tag.text.strip()\n",
    "        no_space = re.sub('|  |\\t|\\n', '', comment)\n",
    "        print(idx, no_space)\n",
    "    \n",
    "    if len(comment_tag_list) != 10:\n",
    "        break;\n",
    "    \n"
   ]
  },
  {
   "cell_type": "markdown",
   "metadata": {},
   "source": [
    "# 3. 포스터 이미지 다운로드 "
   ]
  },
  {
   "cell_type": "code",
   "execution_count": 10,
   "metadata": {},
   "outputs": [
    {
     "name": "stdout",
     "output_type": "stream",
     "text": [
      "https://movie-phinf.pstatic.net/20200624_137/15929908359489lOON_JPEG/movie_image.jpg\n"
     ]
    }
   ],
   "source": [
    "from selenium import webdriver\n",
    "import time\n",
    "from urllib.request import urlretrieve\n",
    "\n",
    "main_url = 'https://movie.naver.com/movie/bi/mi/photoViewPopup.nhn?movieCode='+ movie_number\n",
    "driver = webdriver.Chrome('/mypython/webscrap_source/chromedriver.exe')\n",
    "driver.get(main_url)\n",
    "\n",
    "\n",
    "images = driver.find_elements_by_tag_name('img')\n",
    "for image in images:\n",
    "    src = image.get_attribute('src')\n",
    "    print(src)\n",
    "\n",
    "urlretrieve(src, \"poster_img.jpg\")\n",
    "\n",
    "driver.close()\n",
    "\n"
   ]
  },
  {
   "cell_type": "code",
   "execution_count": 1,
   "metadata": {},
   "outputs": [
    {
     "name": "stdout",
     "output_type": "stream",
     "text": [
      "Requirement already satisfied: WordCloud in c:\\python37\\lib\\site-packages (1.7.0)\n",
      "Requirement already satisfied: pillow in c:\\python37\\lib\\site-packages (from WordCloud) (7.2.0)\n",
      "Requirement already satisfied: numpy>=1.6.1 in c:\\python37\\lib\\site-packages (from WordCloud) (1.19.0)\n",
      "Requirement already satisfied: matplotlib in c:\\python37\\lib\\site-packages (from WordCloud) (3.3.0)\n",
      "Requirement already satisfied: kiwisolver>=1.0.1 in c:\\python37\\lib\\site-packages (from matplotlib->WordCloud) (1.2.0)\n",
      "Requirement already satisfied: cycler>=0.10 in c:\\python37\\lib\\site-packages (from matplotlib->WordCloud) (0.10.0)\n",
      "Requirement already satisfied: python-dateutil>=2.1 in c:\\python37\\lib\\site-packages (from matplotlib->WordCloud) (2.8.1)\n",
      "Requirement already satisfied: pyparsing!=2.0.4,!=2.1.2,!=2.1.6,>=2.0.3 in c:\\python37\\lib\\site-packages (from matplotlib->WordCloud) (2.4.7)\n",
      "Requirement already satisfied: six in c:\\python37\\lib\\site-packages (from cycler>=0.10->matplotlib->WordCloud) (1.15.0)\n"
     ]
    },
    {
     "name": "stderr",
     "output_type": "stream",
     "text": [
      "WARNING: You are using pip version 20.1.1; however, version 20.2.2 is available.\n",
      "You should consider upgrading via the 'c:\\python37\\python.exe -m pip install --upgrade pip' command.\n"
     ]
    }
   ],
   "source": [
    "!pip install WordCloud"
   ]
  },
  {
   "cell_type": "code",
   "execution_count": 2,
   "metadata": {},
   "outputs": [
    {
     "name": "stdout",
     "output_type": "stream",
     "text": [
      "Name: wordcloud\n",
      "Version: 1.7.0\n",
      "Summary: A little word cloud generator\n",
      "Home-page: https://github.com/amueller/word_cloud\n",
      "Author: Andreas Mueller\n",
      "Author-email: t3kcit+wordcloud@gmail.com\n",
      "License: MIT\n",
      "Location: c:\\python37\\lib\\site-packages\n",
      "Requires: pillow, numpy, matplotlib\n",
      "Required-by: \n"
     ]
    }
   ],
   "source": [
    "!pip show WordCloud"
   ]
  },
  {
   "cell_type": "code",
   "execution_count": 3,
   "metadata": {},
   "outputs": [
    {
     "name": "stdout",
     "output_type": "stream",
     "text": [
      "Requirement already satisfied: konlpy in c:\\python37\\lib\\site-packages (0.5.2)\n",
      "Requirement already satisfied: JPype1>=0.7.0 in c:\\python37\\lib\\site-packages (from konlpy) (1.0.2)\n",
      "Requirement already satisfied: beautifulsoup4==4.6.0 in c:\\python37\\lib\\site-packages (from konlpy) (4.6.0)\n",
      "Requirement already satisfied: numpy>=1.6 in c:\\python37\\lib\\site-packages (from konlpy) (1.19.0)\n",
      "Requirement already satisfied: tweepy>=3.7.0 in c:\\python37\\lib\\site-packages (from konlpy) (3.9.0)\n",
      "Requirement already satisfied: colorama in c:\\python37\\lib\\site-packages (from konlpy) (0.4.3)\n",
      "Requirement already satisfied: lxml>=4.1.0 in c:\\python37\\lib\\site-packages (from konlpy) (4.5.2)\n",
      "Requirement already satisfied: typing-extensions; python_version < \"3.8\" in c:\\python37\\lib\\site-packages (from JPype1>=0.7.0->konlpy) (3.7.4.2)\n",
      "Requirement already satisfied: requests-oauthlib>=0.7.0 in c:\\python37\\lib\\site-packages (from tweepy>=3.7.0->konlpy) (1.3.0)\n",
      "Requirement already satisfied: six>=1.10.0 in c:\\python37\\lib\\site-packages (from tweepy>=3.7.0->konlpy) (1.15.0)\n",
      "Requirement already satisfied: requests[socks]>=2.11.1 in c:\\python37\\lib\\site-packages (from tweepy>=3.7.0->konlpy) (2.24.0)\n",
      "Requirement already satisfied: oauthlib>=3.0.0 in c:\\python37\\lib\\site-packages (from requests-oauthlib>=0.7.0->tweepy>=3.7.0->konlpy) (3.1.0)\n",
      "Requirement already satisfied: idna<3,>=2.5 in c:\\python37\\lib\\site-packages (from requests[socks]>=2.11.1->tweepy>=3.7.0->konlpy) (2.10)\n",
      "Requirement already satisfied: chardet<4,>=3.0.2 in c:\\python37\\lib\\site-packages (from requests[socks]>=2.11.1->tweepy>=3.7.0->konlpy) (3.0.4)\n",
      "Requirement already satisfied: urllib3!=1.25.0,!=1.25.1,<1.26,>=1.21.1 in c:\\python37\\lib\\site-packages (from requests[socks]>=2.11.1->tweepy>=3.7.0->konlpy) (1.25.10)\n",
      "Requirement already satisfied: certifi>=2017.4.17 in c:\\python37\\lib\\site-packages (from requests[socks]>=2.11.1->tweepy>=3.7.0->konlpy) (2020.6.20)\n",
      "Requirement already satisfied: PySocks!=1.5.7,>=1.5.6; extra == \"socks\" in c:\\python37\\lib\\site-packages (from requests[socks]>=2.11.1->tweepy>=3.7.0->konlpy) (1.7.1)\n"
     ]
    },
    {
     "name": "stderr",
     "output_type": "stream",
     "text": [
      "WARNING: You are using pip version 20.1.1; however, version 20.2.2 is available.\n",
      "You should consider upgrading via the 'c:\\python37\\python.exe -m pip install --upgrade pip' command.\n"
     ]
    }
   ],
   "source": [
    "!pip install konlpy"
   ]
  },
  {
   "cell_type": "code",
   "execution_count": null,
   "metadata": {},
   "outputs": [],
   "source": [
    "!pip"
   ]
  }
 ],
 "metadata": {
  "kernelspec": {
   "display_name": "Python 3",
   "language": "python",
   "name": "python3"
  },
  "language_info": {
   "codemirror_mode": {
    "name": "ipython",
    "version": 3
   },
   "file_extension": ".py",
   "mimetype": "text/x-python",
   "name": "python",
   "nbconvert_exporter": "python",
   "pygments_lexer": "ipython3",
   "version": "3.7.0"
  }
 },
 "nbformat": 4,
 "nbformat_minor": 2
}
