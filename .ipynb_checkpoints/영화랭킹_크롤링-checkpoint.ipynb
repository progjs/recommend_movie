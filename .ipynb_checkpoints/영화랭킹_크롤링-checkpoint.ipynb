{
 "cells": [
  {
   "cell_type": "code",
   "execution_count": 7,
   "metadata": {},
   "outputs": [
    {
     "name": "stdout",
     "output_type": "stream",
     "text": [
      "1 다만 악에서 구하소서 https://movie.naver.com/movie/bi/mi/basic.nhn?code=189069\n",
      "2 강철비2: 정상회담 https://movie.naver.com/movie/bi/mi/basic.nhn?code=188909\n",
      "3 반도 https://movie.naver.com/movie/bi/mi/basic.nhn?code=185917\n",
      "4 오케이 마담 https://movie.naver.com/movie/bi/mi/basic.nhn?code=182234\n",
      "5 블랙아웃 : 인베이젼 어스 https://movie.naver.com/movie/bi/mi/basic.nhn?code=182809\n",
      "6 애니멀 크래커 https://movie.naver.com/movie/bi/mi/basic.nhn?code=134824\n",
      "7 #살아있다 https://movie.naver.com/movie/bi/mi/basic.nhn?code=189537\n",
      "8 소년시절의 너 https://movie.naver.com/movie/bi/mi/basic.nhn?code=192066\n",
      "9 온워드: 단 하루의 기적 https://movie.naver.com/movie/bi/mi/basic.nhn?code=187351\n",
      "10 테넷 https://movie.naver.com/movie/bi/mi/basic.nhn?code=190010\n",
      "11 존 윅 https://movie.naver.com/movie/bi/mi/basic.nhn?code=123300\n",
      "12 알라딘 https://movie.naver.com/movie/bi/mi/basic.nhn?code=163788\n",
      "13 국제수사 https://movie.naver.com/movie/bi/mi/basic.nhn?code=175393\n",
      "14 밤쉘: 세상을 바꾼 폭탄선언 https://movie.naver.com/movie/bi/mi/basic.nhn?code=191143\n",
      "15 빅샤크3: 젤리몬스터 대소동 https://movie.naver.com/movie/bi/mi/basic.nhn?code=194799\n",
      "16 반교: 디텐션 https://movie.naver.com/movie/bi/mi/basic.nhn?code=189618\n",
      "17 승리호 https://movie.naver.com/movie/bi/mi/basic.nhn?code=186342\n",
      "18 미녀와 야수 https://movie.naver.com/movie/bi/mi/basic.nhn?code=136872\n",
      "19 강철비 https://movie.naver.com/movie/bi/mi/basic.nhn?code=155665\n",
      "20 디바 https://movie.naver.com/movie/bi/mi/basic.nhn?code=177039\n",
      "21 아워 바디 https://movie.naver.com/movie/bi/mi/basic.nhn?code=179095\n",
      "22 미드소마 https://movie.naver.com/movie/bi/mi/basic.nhn?code=182014\n",
      "23 팡파레 https://movie.naver.com/movie/bi/mi/basic.nhn?code=186235\n",
      "24 1942: 언노운 배틀 https://movie.naver.com/movie/bi/mi/basic.nhn?code=194791\n",
      "25 담보 https://movie.naver.com/movie/bi/mi/basic.nhn?code=183866\n",
      "26 키싱 부스 2 https://movie.naver.com/movie/bi/mi/basic.nhn?code=184520\n",
      "27 팬데믹 https://movie.naver.com/movie/bi/mi/basic.nhn?code=194766\n",
      "28 더 렌탈 https://movie.naver.com/movie/bi/mi/basic.nhn?code=195376\n",
      "29 워터 릴리스 https://movie.naver.com/movie/bi/mi/basic.nhn?code=67457\n",
      "30 루비 https://movie.naver.com/movie/bi/mi/basic.nhn?code=189622\n",
      "31 위대한 쇼맨 https://movie.naver.com/movie/bi/mi/basic.nhn?code=106360\n",
      "32 고스트 오브 워 https://movie.naver.com/movie/bi/mi/basic.nhn?code=195425\n",
      "33 세인트 주디 https://movie.naver.com/movie/bi/mi/basic.nhn?code=168051\n",
      "34 오피스 https://movie.naver.com/movie/bi/mi/basic.nhn?code=120141\n",
      "35 기기괴괴 성형수 https://movie.naver.com/movie/bi/mi/basic.nhn?code=194644\n",
      "36 마티아스와 막심 https://movie.naver.com/movie/bi/mi/basic.nhn?code=185273\n",
      "37 47미터 2 https://movie.naver.com/movie/bi/mi/basic.nhn?code=187161\n",
      "38 프리즈너 https://movie.naver.com/movie/bi/mi/basic.nhn?code=194285\n",
      "39 올드 가드 https://movie.naver.com/movie/bi/mi/basic.nhn?code=193173\n",
      "40 결백 https://movie.naver.com/movie/bi/mi/basic.nhn?code=180378\n",
      "41 큐리오사 https://movie.naver.com/movie/bi/mi/basic.nhn?code=185256\n",
      "42 69세 https://movie.naver.com/movie/bi/mi/basic.nhn?code=189373\n",
      "43 지저귀는 새는 날지 않는다 https://movie.naver.com/movie/bi/mi/basic.nhn?code=194693\n",
      "44 주식회사 스페셜액터스 https://movie.naver.com/movie/bi/mi/basic.nhn?code=195180\n",
      "45 부다페스트 스토리 https://movie.naver.com/movie/bi/mi/basic.nhn?code=190355\n",
      "46 태백권 https://movie.naver.com/movie/bi/mi/basic.nhn?code=194485\n",
      "47 극장판 짱구는 못말려: 신혼여행 허리케인~ 사라진 아빠! https://movie.naver.com/movie/bi/mi/basic.nhn?code=183772\n",
      "48 타겟 넘버 원 https://movie.naver.com/movie/bi/mi/basic.nhn?code=146218\n",
      "49 봉오동 전투 https://movie.naver.com/movie/bi/mi/basic.nhn?code=178526\n",
      "50 가버나움 https://movie.naver.com/movie/bi/mi/basic.nhn?code=174830\n"
     ]
    }
   ],
   "source": [
    "# 랭킹 1~50위까지 영화제목, 상세페이지 크롤링\n",
    "import requests\n",
    "from bs4 import BeautifulSoup\n",
    "from urllib.parse import urljoin\n",
    "\n",
    "main_url = 'https://movie.naver.com/movie/sdb/rank/rmovie.nhn'\n",
    "response = requests.get(main_url)\n",
    "soup = BeautifulSoup(response.text, 'html.parser')\n",
    "\n",
    "for idx,a_tag in enumerate(soup.select('a[href*=basic.nhn]'),1):\n",
    "    if idx > 50:\n",
    "        break\n",
    "    title = a_tag.text.strip()\n",
    "    link = urljoin(main_url, a_tag['href'])\n",
    "    print(idx, title, link)"
   ]
  },
  {
   "cell_type": "code",
   "execution_count": 13,
   "metadata": {},
   "outputs": [
    {
     "data": {
      "text/plain": [
       "'\\n강철비2: 정상회담\\n상영중\\nSteel Rain2: Summit\\r\\n\\t\\t\\t\\t\\t\\r\\n\\t\\t\\t\\t\\t, \\r\\n\\t\\t\\t\\t\\t2019\\n'"
      ]
     },
     "execution_count": 13,
     "metadata": {},
     "output_type": "execute_result"
    }
   ],
   "source": [
    "# 영화 상세페이지 크롤링\n",
    "# 제목, 평점, 장르, 나라, 감독, 출연, 누적관객, 줄거리, 포스터\n",
    "\n",
    "movie_number = '188909'\n",
    "main_url = 'https://movie.naver.com/movie/sdb/rank/rmovie.nhn/movie/bi/mi/basic.nhn?code=' + movie_number\n",
    "response = requests.get(main_url)\n",
    "soup = BeautifulSoup(response.text, 'html.parser')\n",
    "\n",
    "soup.select_one('h3.h_movie').text"
   ]
  }
 ],
 "metadata": {
  "kernelspec": {
   "display_name": "Python 3",
   "language": "python",
   "name": "python3"
  },
  "language_info": {
   "codemirror_mode": {
    "name": "ipython",
    "version": 3
   },
   "file_extension": ".py",
   "mimetype": "text/x-python",
   "name": "python",
   "nbconvert_exporter": "python",
   "pygments_lexer": "ipython3",
   "version": "3.7.0"
  }
 },
 "nbformat": 4,
 "nbformat_minor": 2
}
