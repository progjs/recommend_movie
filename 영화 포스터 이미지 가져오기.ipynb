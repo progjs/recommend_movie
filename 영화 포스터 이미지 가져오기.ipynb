{
 "cells": [
  {
   "cell_type": "code",
   "execution_count": 1,
   "metadata": {},
   "outputs": [],
   "source": [
    "from selenium import webdriver\n",
    "import time\n",
    "from urllib.request import urlretrieve\n",
    "\n",
    "main_url = 'https://movie.naver.com/movie/bi/mi/photoViewPopup.nhn?movieCode=189069'\n",
    "driver = webdriver.Chrome('/mypython/webscrap_source/chromedriver.exe')\n",
    "driver.get(main_url)\n",
    "\n",
    "\n",
    "images = driver.find_elements_by_tag_name('img')\n",
    "for image in images:\n",
    "    src = image.get_attribute('src')\n",
    "\n",
    "urlretrieve(src, \"poster_img.jpg\")\n",
    "\n",
    "driver.close()"
   ]
  }
 ],
 "metadata": {
  "kernelspec": {
   "display_name": "Python 3",
   "language": "python",
   "name": "python3"
  },
  "language_info": {
   "codemirror_mode": {
    "name": "ipython",
    "version": 3
   },
   "file_extension": ".py",
   "mimetype": "text/x-python",
   "name": "python",
   "nbconvert_exporter": "python",
   "pygments_lexer": "ipython3",
   "version": "3.7.0"
  }
 },
 "nbformat": 4,
 "nbformat_minor": 2
}
